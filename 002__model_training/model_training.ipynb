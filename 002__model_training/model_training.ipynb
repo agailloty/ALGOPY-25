{
  "cells": [
    {
      "cell_type": "markdown",
      "metadata": {
        "id": "CAi63Qm6PWAu"
      },
      "source": [
        "# Télecharger le jeu de données"
      ]
    },
    {
      "cell_type": "code",
      "execution_count": 52,
      "metadata": {
        "colab": {
          "base_uri": "https://localhost:8080/"
        },
        "id": "QnG4obm4LVtT",
        "outputId": "ce82fd96-8bd0-4c37-b85a-36885c333eae"
      },
      "outputs": [],
      "source": [
        "from pathlib import Path\n",
        "import os\n",
        "# Si dossier /dataset vide ou que son contenu est vide, alors télécharger les données\n",
        "rootPath = Path(\".\").parent\n",
        "datasetFolder = rootPath / \"dataset\"\n",
        "if not os.path.exists(datasetFolder):\n",
        "    os.mkdir(datasetFolder)\n",
        "if \"train.csv\" not in  os.listdir(datasetFolder):\n",
        "    import utilitaire\n",
        "    utilitaire.download_dataset(datasetFolder)"
      ]
    },
    {
      "cell_type": "code",
      "execution_count": 53,
      "metadata": {
        "id": "VkkDnyTtPJhc"
      },
      "outputs": [],
      "source": [
        "import polars as pl\n",
        "import polars.selectors as cs\n",
        "data = pl.read_csv(\"dataset/train.csv\", try_parse_dates=True)"
      ]
    },
    {
      "cell_type": "code",
      "execution_count": 54,
      "metadata": {
        "colab": {
          "base_uri": "https://localhost:8080/"
        },
        "id": "LHbtW0-UP9cq",
        "outputId": "ddb8bf9c-2582-4a86-bf34-4111d106ef87"
      },
      "outputs": [
        {
          "data": {
            "text/plain": [
              "(1200000, 21)"
            ]
          },
          "execution_count": 54,
          "metadata": {},
          "output_type": "execute_result"
        }
      ],
      "source": [
        "data.shape"
      ]
    },
    {
      "cell_type": "code",
      "execution_count": 55,
      "metadata": {
        "colab": {
          "base_uri": "https://localhost:8080/",
          "height": 184
        },
        "id": "QpRRk1F9QEUL",
        "outputId": "080435d0-3d96-469b-b547-8548f1e53cda"
      },
      "outputs": [
        {
          "data": {
            "text/html": [
              "<div><style>\n",
              ".dataframe > thead > tr,\n",
              ".dataframe > tbody > tr {\n",
              "  text-align: right;\n",
              "  white-space: pre-wrap;\n",
              "}\n",
              "</style>\n",
              "<small>shape: (1, 21)</small><table border=\"1\" class=\"dataframe\"><thead><tr><th>id</th><th>Age</th><th>Gender</th><th>Annual Income</th><th>Marital Status</th><th>Number of Dependents</th><th>Education Level</th><th>Occupation</th><th>Health Score</th><th>Location</th><th>Policy Type</th><th>Previous Claims</th><th>Vehicle Age</th><th>Credit Score</th><th>Insurance Duration</th><th>Policy Start Date</th><th>Customer Feedback</th><th>Smoking Status</th><th>Exercise Frequency</th><th>Property Type</th><th>Premium Amount</th></tr><tr><td>u32</td><td>u32</td><td>u32</td><td>u32</td><td>u32</td><td>u32</td><td>u32</td><td>u32</td><td>u32</td><td>u32</td><td>u32</td><td>u32</td><td>u32</td><td>u32</td><td>u32</td><td>u32</td><td>u32</td><td>u32</td><td>u32</td><td>u32</td><td>u32</td></tr></thead><tbody><tr><td>0</td><td>18705</td><td>0</td><td>44949</td><td>18529</td><td>109672</td><td>0</td><td>358075</td><td>74076</td><td>0</td><td>0</td><td>364029</td><td>6</td><td>137882</td><td>1</td><td>0</td><td>77824</td><td>0</td><td>0</td><td>0</td><td>0</td></tr></tbody></table></div>"
            ],
            "text/plain": [
              "shape: (1, 21)\n",
              "┌─────┬───────┬────────┬────────┬───┬─────────┬───────────┬───────────────┬────────────────┐\n",
              "│ id  ┆ Age   ┆ Gender ┆ Annual ┆ … ┆ Smoking ┆ Exercise  ┆ Property Type ┆ Premium Amount │\n",
              "│ --- ┆ ---   ┆ ---    ┆ Income ┆   ┆ Status  ┆ Frequency ┆ ---           ┆ ---            │\n",
              "│ u32 ┆ u32   ┆ u32    ┆ ---    ┆   ┆ ---     ┆ ---       ┆ u32           ┆ u32            │\n",
              "│     ┆       ┆        ┆ u32    ┆   ┆ u32     ┆ u32       ┆               ┆                │\n",
              "╞═════╪═══════╪════════╪════════╪═══╪═════════╪═══════════╪═══════════════╪════════════════╡\n",
              "│ 0   ┆ 18705 ┆ 0      ┆ 44949  ┆ … ┆ 0       ┆ 0         ┆ 0             ┆ 0              │\n",
              "└─────┴───────┴────────┴────────┴───┴─────────┴───────────┴───────────────┴────────────────┘"
            ]
          },
          "execution_count": 55,
          "metadata": {},
          "output_type": "execute_result"
        }
      ],
      "source": [
        "data.null_count()"
      ]
    },
    {
      "cell_type": "code",
      "execution_count": 56,
      "metadata": {
        "id": "MmK3x3wwQ2zO"
      },
      "outputs": [],
      "source": [
        "df = data.drop_nulls()"
      ]
    },
    {
      "cell_type": "code",
      "execution_count": 57,
      "metadata": {
        "colab": {
          "base_uri": "https://localhost:8080/"
        },
        "id": "OZm_7XxGQ7Qv",
        "outputId": "b917da5c-271b-4c1e-8e69-f17cb76c4c6f"
      },
      "outputs": [
        {
          "data": {
            "text/plain": [
              "(384004, 21)"
            ]
          },
          "execution_count": 57,
          "metadata": {},
          "output_type": "execute_result"
        }
      ],
      "source": [
        "df.shape"
      ]
    },
    {
      "cell_type": "code",
      "execution_count": 58,
      "metadata": {
        "colab": {
          "base_uri": "https://localhost:8080/",
          "height": 452
        },
        "id": "EpG-RaCpPmMu",
        "outputId": "8d9a01a5-dc6c-4bda-bbe1-c5b0e8794cd8"
      },
      "outputs": [
        {
          "data": {
            "text/html": [
              "<div><style>\n",
              ".dataframe > thead > tr,\n",
              ".dataframe > tbody > tr {\n",
              "  text-align: right;\n",
              "  white-space: pre-wrap;\n",
              "}\n",
              "</style>\n",
              "<small>shape: (9, 22)</small><table border=\"1\" class=\"dataframe\"><thead><tr><th>statistic</th><th>id</th><th>Age</th><th>Gender</th><th>Annual Income</th><th>Marital Status</th><th>Number of Dependents</th><th>Education Level</th><th>Occupation</th><th>Health Score</th><th>Location</th><th>Policy Type</th><th>Previous Claims</th><th>Vehicle Age</th><th>Credit Score</th><th>Insurance Duration</th><th>Policy Start Date</th><th>Customer Feedback</th><th>Smoking Status</th><th>Exercise Frequency</th><th>Property Type</th><th>Premium Amount</th></tr><tr><td>str</td><td>f64</td><td>f64</td><td>str</td><td>f64</td><td>str</td><td>f64</td><td>str</td><td>str</td><td>f64</td><td>str</td><td>str</td><td>f64</td><td>f64</td><td>f64</td><td>f64</td><td>str</td><td>str</td><td>str</td><td>str</td><td>str</td><td>f64</td></tr></thead><tbody><tr><td>&quot;count&quot;</td><td>384004.0</td><td>384004.0</td><td>&quot;384004&quot;</td><td>384004.0</td><td>&quot;384004&quot;</td><td>384004.0</td><td>&quot;384004&quot;</td><td>&quot;384004&quot;</td><td>384004.0</td><td>&quot;384004&quot;</td><td>&quot;384004&quot;</td><td>384004.0</td><td>384004.0</td><td>384004.0</td><td>384004.0</td><td>&quot;384004&quot;</td><td>&quot;384004&quot;</td><td>&quot;384004&quot;</td><td>&quot;384004&quot;</td><td>&quot;384004&quot;</td><td>384004.0</td></tr><tr><td>&quot;null_count&quot;</td><td>0.0</td><td>0.0</td><td>&quot;0&quot;</td><td>0.0</td><td>&quot;0&quot;</td><td>0.0</td><td>&quot;0&quot;</td><td>&quot;0&quot;</td><td>0.0</td><td>&quot;0&quot;</td><td>&quot;0&quot;</td><td>0.0</td><td>0.0</td><td>0.0</td><td>0.0</td><td>&quot;0&quot;</td><td>&quot;0&quot;</td><td>&quot;0&quot;</td><td>&quot;0&quot;</td><td>&quot;0&quot;</td><td>0.0</td></tr><tr><td>&quot;mean&quot;</td><td>599960.992656</td><td>41.139394</td><td>null</td><td>33072.900087</td><td>null</td><td>2.014088</td><td>null</td><td>null</td><td>25.580094</td><td>null</td><td>null</td><td>0.996247</td><td>9.561679</td><td>594.01282</td><td>5.020357</td><td>&quot;2022-02-13 09:25:48.927852&quot;</td><td>null</td><td>null</td><td>null</td><td>null</td><td>1113.187016</td></tr><tr><td>&quot;std&quot;</td><td>346158.471585</td><td>13.531632</td><td>null</td><td>32370.321642</td><td>null</td><td>1.415478</td><td>null</td><td>null</td><td>12.194086</td><td>null</td><td>null</td><td>0.978161</td><td>5.774009</td><td>149.607696</td><td>2.596525</td><td>null</td><td>null</td><td>null</td><td>null</td><td>null</td><td>868.688359</td></tr><tr><td>&quot;min&quot;</td><td>0.0</td><td>18.0</td><td>&quot;Female&quot;</td><td>2.0</td><td>&quot;Divorced&quot;</td><td>0.0</td><td>&quot;Bachelor&#x27;s&quot;</td><td>&quot;Employed&quot;</td><td>2.024415</td><td>&quot;Rural&quot;</td><td>&quot;Basic&quot;</td><td>0.0</td><td>0.0</td><td>300.0</td><td>1.0</td><td>&quot;2019-08-17 15:21:39.080371&quot;</td><td>&quot;Average&quot;</td><td>&quot;No&quot;</td><td>&quot;Daily&quot;</td><td>&quot;Apartment&quot;</td><td>20.0</td></tr><tr><td>&quot;25%&quot;</td><td>300582.0</td><td>30.0</td><td>null</td><td>8069.0</td><td>null</td><td>1.0</td><td>null</td><td>null</td><td>15.878551</td><td>null</td><td>null</td><td>0.0</td><td>5.0</td><td>470.0</td><td>3.0</td><td>&quot;2020-11-20 15:21:39.168099&quot;</td><td>null</td><td>null</td><td>null</td><td>null</td><td>519.0</td></tr><tr><td>&quot;50%&quot;</td><td>599791.0</td><td>41.0</td><td>null</td><td>24182.0</td><td>null</td><td>2.0</td><td>null</td><td>null</td><td>24.580045</td><td>null</td><td>null</td><td>1.0</td><td>10.0</td><td>596.0</td><td>5.0</td><td>&quot;2022-02-13 15:21:39.206847&quot;</td><td>null</td><td>null</td><td>null</td><td>null</td><td>882.0</td></tr><tr><td>&quot;75%&quot;</td><td>898899.0</td><td>53.0</td><td>null</td><td>44803.0</td><td>null</td><td>3.0</td><td>null</td><td>null</td><td>34.486416</td><td>null</td><td>null</td><td>2.0</td><td>15.0</td><td>722.0</td><td>7.0</td><td>&quot;2023-05-07 15:21:39.237118&quot;</td><td>null</td><td>null</td><td>null</td><td>null</td><td>1520.0</td></tr><tr><td>&quot;max&quot;</td><td>1.19999e6</td><td>64.0</td><td>&quot;Male&quot;</td><td>149997.0</td><td>&quot;Single&quot;</td><td>4.0</td><td>&quot;PhD&quot;</td><td>&quot;Unemployed&quot;</td><td>58.452478</td><td>&quot;Urban&quot;</td><td>&quot;Premium&quot;</td><td>8.0</td><td>19.0</td><td>849.0</td><td>9.0</td><td>&quot;2024-08-15 15:21:39.287115&quot;</td><td>&quot;Poor&quot;</td><td>&quot;Yes&quot;</td><td>&quot;Weekly&quot;</td><td>&quot;House&quot;</td><td>4997.0</td></tr></tbody></table></div>"
            ],
            "text/plain": [
              "shape: (9, 22)\n",
              "┌────────────┬────────────┬───────────┬────────┬───┬───────────┬───────────┬───────────┬───────────┐\n",
              "│ statistic  ┆ id         ┆ Age       ┆ Gender ┆ … ┆ Smoking   ┆ Exercise  ┆ Property  ┆ Premium   │\n",
              "│ ---        ┆ ---        ┆ ---       ┆ ---    ┆   ┆ Status    ┆ Frequency ┆ Type      ┆ Amount    │\n",
              "│ str        ┆ f64        ┆ f64       ┆ str    ┆   ┆ ---       ┆ ---       ┆ ---       ┆ ---       │\n",
              "│            ┆            ┆           ┆        ┆   ┆ str       ┆ str       ┆ str       ┆ f64       │\n",
              "╞════════════╪════════════╪═══════════╪════════╪═══╪═══════════╪═══════════╪═══════════╪═══════════╡\n",
              "│ count      ┆ 384004.0   ┆ 384004.0  ┆ 384004 ┆ … ┆ 384004    ┆ 384004    ┆ 384004    ┆ 384004.0  │\n",
              "│ null_count ┆ 0.0        ┆ 0.0       ┆ 0      ┆ … ┆ 0         ┆ 0         ┆ 0         ┆ 0.0       │\n",
              "│ mean       ┆ 599960.992 ┆ 41.139394 ┆ null   ┆ … ┆ null      ┆ null      ┆ null      ┆ 1113.1870 │\n",
              "│            ┆ 656        ┆           ┆        ┆   ┆           ┆           ┆           ┆ 16        │\n",
              "│ std        ┆ 346158.471 ┆ 13.531632 ┆ null   ┆ … ┆ null      ┆ null      ┆ null      ┆ 868.68835 │\n",
              "│            ┆ 585        ┆           ┆        ┆   ┆           ┆           ┆           ┆ 9         │\n",
              "│ min        ┆ 0.0        ┆ 18.0      ┆ Female ┆ … ┆ No        ┆ Daily     ┆ Apartment ┆ 20.0      │\n",
              "│ 25%        ┆ 300582.0   ┆ 30.0      ┆ null   ┆ … ┆ null      ┆ null      ┆ null      ┆ 519.0     │\n",
              "│ 50%        ┆ 599791.0   ┆ 41.0      ┆ null   ┆ … ┆ null      ┆ null      ┆ null      ┆ 882.0     │\n",
              "│ 75%        ┆ 898899.0   ┆ 53.0      ┆ null   ┆ … ┆ null      ┆ null      ┆ null      ┆ 1520.0    │\n",
              "│ max        ┆ 1.19999e6  ┆ 64.0      ┆ Male   ┆ … ┆ Yes       ┆ Weekly    ┆ House     ┆ 4997.0    │\n",
              "└────────────┴────────────┴───────────┴────────┴───┴───────────┴───────────┴───────────┴───────────┘"
            ]
          },
          "execution_count": 58,
          "metadata": {},
          "output_type": "execute_result"
        }
      ],
      "source": [
        "df.describe()"
      ]
    },
    {
      "cell_type": "code",
      "execution_count": 59,
      "metadata": {
        "id": "egHyHzwkUrdX"
      },
      "outputs": [],
      "source": [
        "df =  df.drop([\"id\", \"Policy Start Date\", \"Credit Score\", \"Customer Feedback\"])\n",
        "\n",
        "from polars import String\n",
        "features_modalities = []\n",
        "for feature_name, feature_type in df.schema.items():\n",
        "    if isinstance(feature_type, String):\n",
        "        modalities = df[feature_name].unique().to_list()\n",
        "        features_modalities.append(f\"{feature_name} ({feature_type}) : \" + \",\".join(modalities) + \"\\n\")\n",
        "    else:\n",
        "        features_modalities.append(f\"{feature_name} ({feature_type}) \\n\")\n",
        "\n",
        "with open(\"features_modalities.txt\", \"w\") as f:\n",
        "    f.writelines(features_modalities)"
      ]
    },
    {
      "cell_type": "code",
      "execution_count": 60,
      "metadata": {},
      "outputs": [],
      "source": [
        "df = df.to_dummies(cs.string(), separator=\"_\",  drop_first=True)"
      ]
    },
    {
      "cell_type": "code",
      "execution_count": 61,
      "metadata": {
        "colab": {
          "base_uri": "https://localhost:8080/",
          "height": 435
        },
        "id": "vOr9SGHJVDt1",
        "outputId": "73fb1bbd-e4f8-4619-b817-942f82c8c7d6"
      },
      "outputs": [
        {
          "data": {
            "text/html": [
              "<div><style>\n",
              ".dataframe > thead > tr,\n",
              ".dataframe > tbody > tr {\n",
              "  text-align: right;\n",
              "  white-space: pre-wrap;\n",
              "}\n",
              "</style>\n",
              "<small>shape: (9, 27)</small><table border=\"1\" class=\"dataframe\"><thead><tr><th>statistic</th><th>Age</th><th>Gender_Male</th><th>Annual Income</th><th>Marital Status_Divorced</th><th>Marital Status_Single</th><th>Number of Dependents</th><th>Education Level_High School</th><th>Education Level_Master&#x27;s</th><th>Education Level_PhD</th><th>Occupation_Employed</th><th>Occupation_Unemployed</th><th>Health Score</th><th>Location_Rural</th><th>Location_Suburban</th><th>Policy Type_Basic</th><th>Policy Type_Comprehensive</th><th>Previous Claims</th><th>Vehicle Age</th><th>Insurance Duration</th><th>Smoking Status_Yes</th><th>Exercise Frequency_Daily</th><th>Exercise Frequency_Monthly</th><th>Exercise Frequency_Rarely</th><th>Property Type_Apartment</th><th>Property Type_Condo</th><th>Premium Amount</th></tr><tr><td>str</td><td>f64</td><td>f64</td><td>f64</td><td>f64</td><td>f64</td><td>f64</td><td>f64</td><td>f64</td><td>f64</td><td>f64</td><td>f64</td><td>f64</td><td>f64</td><td>f64</td><td>f64</td><td>f64</td><td>f64</td><td>f64</td><td>f64</td><td>f64</td><td>f64</td><td>f64</td><td>f64</td><td>f64</td><td>f64</td><td>f64</td></tr></thead><tbody><tr><td>&quot;count&quot;</td><td>384004.0</td><td>384004.0</td><td>384004.0</td><td>384004.0</td><td>384004.0</td><td>384004.0</td><td>384004.0</td><td>384004.0</td><td>384004.0</td><td>384004.0</td><td>384004.0</td><td>384004.0</td><td>384004.0</td><td>384004.0</td><td>384004.0</td><td>384004.0</td><td>384004.0</td><td>384004.0</td><td>384004.0</td><td>384004.0</td><td>384004.0</td><td>384004.0</td><td>384004.0</td><td>384004.0</td><td>384004.0</td><td>384004.0</td></tr><tr><td>&quot;null_count&quot;</td><td>0.0</td><td>0.0</td><td>0.0</td><td>0.0</td><td>0.0</td><td>0.0</td><td>0.0</td><td>0.0</td><td>0.0</td><td>0.0</td><td>0.0</td><td>0.0</td><td>0.0</td><td>0.0</td><td>0.0</td><td>0.0</td><td>0.0</td><td>0.0</td><td>0.0</td><td>0.0</td><td>0.0</td><td>0.0</td><td>0.0</td><td>0.0</td><td>0.0</td><td>0.0</td></tr><tr><td>&quot;mean&quot;</td><td>41.139394</td><td>0.502555</td><td>33072.900087</td><td>0.333562</td><td>0.334158</td><td>2.014088</td><td>0.240461</td><td>0.251984</td><td>0.253859</td><td>0.335085</td><td>0.328257</td><td>25.580094</td><td>0.333174</td><td>0.33434</td><td>0.332853</td><td>0.333017</td><td>0.996247</td><td>9.561679</td><td>5.020357</td><td>0.500964</td><td>0.245247</td><td>0.249779</td><td>0.249807</td><td>0.3352</td><td>0.33253</td><td>1113.187016</td></tr><tr><td>&quot;std&quot;</td><td>13.531632</td><td>0.499994</td><td>32370.321642</td><td>0.471486</td><td>0.471696</td><td>1.415478</td><td>0.427364</td><td>0.434153</td><td>0.435219</td><td>0.472021</td><td>0.46958</td><td>12.194086</td><td>0.471349</td><td>0.47176</td><td>0.471235</td><td>0.471293</td><td>0.978161</td><td>5.774009</td><td>2.596525</td><td>0.5</td><td>0.430234</td><td>0.432885</td><td>0.432902</td><td>0.472061</td><td>0.47112</td><td>868.688359</td></tr><tr><td>&quot;min&quot;</td><td>18.0</td><td>0.0</td><td>2.0</td><td>0.0</td><td>0.0</td><td>0.0</td><td>0.0</td><td>0.0</td><td>0.0</td><td>0.0</td><td>0.0</td><td>2.024415</td><td>0.0</td><td>0.0</td><td>0.0</td><td>0.0</td><td>0.0</td><td>0.0</td><td>1.0</td><td>0.0</td><td>0.0</td><td>0.0</td><td>0.0</td><td>0.0</td><td>0.0</td><td>20.0</td></tr><tr><td>&quot;25%&quot;</td><td>30.0</td><td>0.0</td><td>8069.0</td><td>0.0</td><td>0.0</td><td>1.0</td><td>0.0</td><td>0.0</td><td>0.0</td><td>0.0</td><td>0.0</td><td>15.878551</td><td>0.0</td><td>0.0</td><td>0.0</td><td>0.0</td><td>0.0</td><td>5.0</td><td>3.0</td><td>0.0</td><td>0.0</td><td>0.0</td><td>0.0</td><td>0.0</td><td>0.0</td><td>519.0</td></tr><tr><td>&quot;50%&quot;</td><td>41.0</td><td>1.0</td><td>24182.0</td><td>0.0</td><td>0.0</td><td>2.0</td><td>0.0</td><td>0.0</td><td>0.0</td><td>0.0</td><td>0.0</td><td>24.580045</td><td>0.0</td><td>0.0</td><td>0.0</td><td>0.0</td><td>1.0</td><td>10.0</td><td>5.0</td><td>1.0</td><td>0.0</td><td>0.0</td><td>0.0</td><td>0.0</td><td>0.0</td><td>882.0</td></tr><tr><td>&quot;75%&quot;</td><td>53.0</td><td>1.0</td><td>44803.0</td><td>1.0</td><td>1.0</td><td>3.0</td><td>0.0</td><td>1.0</td><td>1.0</td><td>1.0</td><td>1.0</td><td>34.486416</td><td>1.0</td><td>1.0</td><td>1.0</td><td>1.0</td><td>2.0</td><td>15.0</td><td>7.0</td><td>1.0</td><td>0.0</td><td>0.0</td><td>0.0</td><td>1.0</td><td>1.0</td><td>1520.0</td></tr><tr><td>&quot;max&quot;</td><td>64.0</td><td>1.0</td><td>149997.0</td><td>1.0</td><td>1.0</td><td>4.0</td><td>1.0</td><td>1.0</td><td>1.0</td><td>1.0</td><td>1.0</td><td>58.452478</td><td>1.0</td><td>1.0</td><td>1.0</td><td>1.0</td><td>8.0</td><td>19.0</td><td>9.0</td><td>1.0</td><td>1.0</td><td>1.0</td><td>1.0</td><td>1.0</td><td>1.0</td><td>4997.0</td></tr></tbody></table></div>"
            ],
            "text/plain": [
              "shape: (9, 27)\n",
              "┌───────────┬───────────┬───────────┬───────────┬───┬───────────┬───────────┬───────────┬──────────┐\n",
              "│ statistic ┆ Age       ┆ Gender_Ma ┆ Annual    ┆ … ┆ Exercise  ┆ Property  ┆ Property  ┆ Premium  │\n",
              "│ ---       ┆ ---       ┆ le        ┆ Income    ┆   ┆ Frequency ┆ Type_Apar ┆ Type_Cond ┆ Amount   │\n",
              "│ str       ┆ f64       ┆ ---       ┆ ---       ┆   ┆ _Rarely   ┆ tment     ┆ o         ┆ ---      │\n",
              "│           ┆           ┆ f64       ┆ f64       ┆   ┆ ---       ┆ ---       ┆ ---       ┆ f64      │\n",
              "│           ┆           ┆           ┆           ┆   ┆ f64       ┆ f64       ┆ f64       ┆          │\n",
              "╞═══════════╪═══════════╪═══════════╪═══════════╪═══╪═══════════╪═══════════╪═══════════╪══════════╡\n",
              "│ count     ┆ 384004.0  ┆ 384004.0  ┆ 384004.0  ┆ … ┆ 384004.0  ┆ 384004.0  ┆ 384004.0  ┆ 384004.0 │\n",
              "│ null_coun ┆ 0.0       ┆ 0.0       ┆ 0.0       ┆ … ┆ 0.0       ┆ 0.0       ┆ 0.0       ┆ 0.0      │\n",
              "│ t         ┆           ┆           ┆           ┆   ┆           ┆           ┆           ┆          │\n",
              "│ mean      ┆ 41.139394 ┆ 0.502555  ┆ 33072.900 ┆ … ┆ 0.249807  ┆ 0.3352    ┆ 0.33253   ┆ 1113.187 │\n",
              "│           ┆           ┆           ┆ 087       ┆   ┆           ┆           ┆           ┆ 016      │\n",
              "│ std       ┆ 13.531632 ┆ 0.499994  ┆ 32370.321 ┆ … ┆ 0.432902  ┆ 0.472061  ┆ 0.47112   ┆ 868.6883 │\n",
              "│           ┆           ┆           ┆ 642       ┆   ┆           ┆           ┆           ┆ 59       │\n",
              "│ min       ┆ 18.0      ┆ 0.0       ┆ 2.0       ┆ … ┆ 0.0       ┆ 0.0       ┆ 0.0       ┆ 20.0     │\n",
              "│ 25%       ┆ 30.0      ┆ 0.0       ┆ 8069.0    ┆ … ┆ 0.0       ┆ 0.0       ┆ 0.0       ┆ 519.0    │\n",
              "│ 50%       ┆ 41.0      ┆ 1.0       ┆ 24182.0   ┆ … ┆ 0.0       ┆ 0.0       ┆ 0.0       ┆ 882.0    │\n",
              "│ 75%       ┆ 53.0      ┆ 1.0       ┆ 44803.0   ┆ … ┆ 0.0       ┆ 1.0       ┆ 1.0       ┆ 1520.0   │\n",
              "│ max       ┆ 64.0      ┆ 1.0       ┆ 149997.0  ┆ … ┆ 1.0       ┆ 1.0       ┆ 1.0       ┆ 4997.0   │\n",
              "└───────────┴───────────┴───────────┴───────────┴───┴───────────┴───────────┴───────────┴──────────┘"
            ]
          },
          "execution_count": 61,
          "metadata": {},
          "output_type": "execute_result"
        }
      ],
      "source": [
        "df.describe()"
      ]
    },
    {
      "cell_type": "code",
      "execution_count": 62,
      "metadata": {
        "id": "LGdN5ncVW3eV"
      },
      "outputs": [],
      "source": [
        "y = df['Premium Amount']\n",
        "X = df.drop('Premium Amount')"
      ]
    },
    {
      "cell_type": "code",
      "execution_count": 63,
      "metadata": {
        "colab": {
          "base_uri": "https://localhost:8080/",
          "height": 36
        },
        "id": "XbCZzd94hic7",
        "outputId": "d4063c1b-8687-4d71-9635-fd6be28569d0"
      },
      "outputs": [
        {
          "data": {
            "text/plain": [
              "'1.6.1'"
            ]
          },
          "execution_count": 63,
          "metadata": {},
          "output_type": "execute_result"
        }
      ],
      "source": [
        "import sklearn\n",
        "sklearn.__version__"
      ]
    },
    {
      "cell_type": "code",
      "execution_count": 64,
      "metadata": {
        "id": "l5bMNLgjYL0W"
      },
      "outputs": [],
      "source": [
        "import sklearn\n",
        "from sklearn.linear_model import LinearRegression\n",
        "from sklearn.ensemble import GradientBoostingRegressor\n",
        "from sklearn.neighbors import KNeighborsRegressor"
      ]
    },
    {
      "cell_type": "code",
      "execution_count": null,
      "metadata": {
        "id": "02NiDX0Bhh4M"
      },
      "outputs": [],
      "source": []
    },
    {
      "cell_type": "code",
      "execution_count": 65,
      "metadata": {
        "colab": {
          "base_uri": "https://localhost:8080/",
          "height": 80
        },
        "id": "tySv3UqFg4sA",
        "outputId": "0e095367-7791-42e5-8dc8-96c8dfd6111e"
      },
      "outputs": [
        {
          "data": {
            "text/html": [
              "<style>#sk-container-id-1 {\n",
              "  /* Definition of color scheme common for light and dark mode */\n",
              "  --sklearn-color-text: #000;\n",
              "  --sklearn-color-text-muted: #666;\n",
              "  --sklearn-color-line: gray;\n",
              "  /* Definition of color scheme for unfitted estimators */\n",
              "  --sklearn-color-unfitted-level-0: #fff5e6;\n",
              "  --sklearn-color-unfitted-level-1: #f6e4d2;\n",
              "  --sklearn-color-unfitted-level-2: #ffe0b3;\n",
              "  --sklearn-color-unfitted-level-3: chocolate;\n",
              "  /* Definition of color scheme for fitted estimators */\n",
              "  --sklearn-color-fitted-level-0: #f0f8ff;\n",
              "  --sklearn-color-fitted-level-1: #d4ebff;\n",
              "  --sklearn-color-fitted-level-2: #b3dbfd;\n",
              "  --sklearn-color-fitted-level-3: cornflowerblue;\n",
              "\n",
              "  /* Specific color for light theme */\n",
              "  --sklearn-color-text-on-default-background: var(--sg-text-color, var(--theme-code-foreground, var(--jp-content-font-color1, black)));\n",
              "  --sklearn-color-background: var(--sg-background-color, var(--theme-background, var(--jp-layout-color0, white)));\n",
              "  --sklearn-color-border-box: var(--sg-text-color, var(--theme-code-foreground, var(--jp-content-font-color1, black)));\n",
              "  --sklearn-color-icon: #696969;\n",
              "\n",
              "  @media (prefers-color-scheme: dark) {\n",
              "    /* Redefinition of color scheme for dark theme */\n",
              "    --sklearn-color-text-on-default-background: var(--sg-text-color, var(--theme-code-foreground, var(--jp-content-font-color1, white)));\n",
              "    --sklearn-color-background: var(--sg-background-color, var(--theme-background, var(--jp-layout-color0, #111)));\n",
              "    --sklearn-color-border-box: var(--sg-text-color, var(--theme-code-foreground, var(--jp-content-font-color1, white)));\n",
              "    --sklearn-color-icon: #878787;\n",
              "  }\n",
              "}\n",
              "\n",
              "#sk-container-id-1 {\n",
              "  color: var(--sklearn-color-text);\n",
              "}\n",
              "\n",
              "#sk-container-id-1 pre {\n",
              "  padding: 0;\n",
              "}\n",
              "\n",
              "#sk-container-id-1 input.sk-hidden--visually {\n",
              "  border: 0;\n",
              "  clip: rect(1px 1px 1px 1px);\n",
              "  clip: rect(1px, 1px, 1px, 1px);\n",
              "  height: 1px;\n",
              "  margin: -1px;\n",
              "  overflow: hidden;\n",
              "  padding: 0;\n",
              "  position: absolute;\n",
              "  width: 1px;\n",
              "}\n",
              "\n",
              "#sk-container-id-1 div.sk-dashed-wrapped {\n",
              "  border: 1px dashed var(--sklearn-color-line);\n",
              "  margin: 0 0.4em 0.5em 0.4em;\n",
              "  box-sizing: border-box;\n",
              "  padding-bottom: 0.4em;\n",
              "  background-color: var(--sklearn-color-background);\n",
              "}\n",
              "\n",
              "#sk-container-id-1 div.sk-container {\n",
              "  /* jupyter's `normalize.less` sets `[hidden] { display: none; }`\n",
              "     but bootstrap.min.css set `[hidden] { display: none !important; }`\n",
              "     so we also need the `!important` here to be able to override the\n",
              "     default hidden behavior on the sphinx rendered scikit-learn.org.\n",
              "     See: https://github.com/scikit-learn/scikit-learn/issues/21755 */\n",
              "  display: inline-block !important;\n",
              "  position: relative;\n",
              "}\n",
              "\n",
              "#sk-container-id-1 div.sk-text-repr-fallback {\n",
              "  display: none;\n",
              "}\n",
              "\n",
              "div.sk-parallel-item,\n",
              "div.sk-serial,\n",
              "div.sk-item {\n",
              "  /* draw centered vertical line to link estimators */\n",
              "  background-image: linear-gradient(var(--sklearn-color-text-on-default-background), var(--sklearn-color-text-on-default-background));\n",
              "  background-size: 2px 100%;\n",
              "  background-repeat: no-repeat;\n",
              "  background-position: center center;\n",
              "}\n",
              "\n",
              "/* Parallel-specific style estimator block */\n",
              "\n",
              "#sk-container-id-1 div.sk-parallel-item::after {\n",
              "  content: \"\";\n",
              "  width: 100%;\n",
              "  border-bottom: 2px solid var(--sklearn-color-text-on-default-background);\n",
              "  flex-grow: 1;\n",
              "}\n",
              "\n",
              "#sk-container-id-1 div.sk-parallel {\n",
              "  display: flex;\n",
              "  align-items: stretch;\n",
              "  justify-content: center;\n",
              "  background-color: var(--sklearn-color-background);\n",
              "  position: relative;\n",
              "}\n",
              "\n",
              "#sk-container-id-1 div.sk-parallel-item {\n",
              "  display: flex;\n",
              "  flex-direction: column;\n",
              "}\n",
              "\n",
              "#sk-container-id-1 div.sk-parallel-item:first-child::after {\n",
              "  align-self: flex-end;\n",
              "  width: 50%;\n",
              "}\n",
              "\n",
              "#sk-container-id-1 div.sk-parallel-item:last-child::after {\n",
              "  align-self: flex-start;\n",
              "  width: 50%;\n",
              "}\n",
              "\n",
              "#sk-container-id-1 div.sk-parallel-item:only-child::after {\n",
              "  width: 0;\n",
              "}\n",
              "\n",
              "/* Serial-specific style estimator block */\n",
              "\n",
              "#sk-container-id-1 div.sk-serial {\n",
              "  display: flex;\n",
              "  flex-direction: column;\n",
              "  align-items: center;\n",
              "  background-color: var(--sklearn-color-background);\n",
              "  padding-right: 1em;\n",
              "  padding-left: 1em;\n",
              "}\n",
              "\n",
              "\n",
              "/* Toggleable style: style used for estimator/Pipeline/ColumnTransformer box that is\n",
              "clickable and can be expanded/collapsed.\n",
              "- Pipeline and ColumnTransformer use this feature and define the default style\n",
              "- Estimators will overwrite some part of the style using the `sk-estimator` class\n",
              "*/\n",
              "\n",
              "/* Pipeline and ColumnTransformer style (default) */\n",
              "\n",
              "#sk-container-id-1 div.sk-toggleable {\n",
              "  /* Default theme specific background. It is overwritten whether we have a\n",
              "  specific estimator or a Pipeline/ColumnTransformer */\n",
              "  background-color: var(--sklearn-color-background);\n",
              "}\n",
              "\n",
              "/* Toggleable label */\n",
              "#sk-container-id-1 label.sk-toggleable__label {\n",
              "  cursor: pointer;\n",
              "  display: flex;\n",
              "  width: 100%;\n",
              "  margin-bottom: 0;\n",
              "  padding: 0.5em;\n",
              "  box-sizing: border-box;\n",
              "  text-align: center;\n",
              "  align-items: start;\n",
              "  justify-content: space-between;\n",
              "  gap: 0.5em;\n",
              "}\n",
              "\n",
              "#sk-container-id-1 label.sk-toggleable__label .caption {\n",
              "  font-size: 0.6rem;\n",
              "  font-weight: lighter;\n",
              "  color: var(--sklearn-color-text-muted);\n",
              "}\n",
              "\n",
              "#sk-container-id-1 label.sk-toggleable__label-arrow:before {\n",
              "  /* Arrow on the left of the label */\n",
              "  content: \"▸\";\n",
              "  float: left;\n",
              "  margin-right: 0.25em;\n",
              "  color: var(--sklearn-color-icon);\n",
              "}\n",
              "\n",
              "#sk-container-id-1 label.sk-toggleable__label-arrow:hover:before {\n",
              "  color: var(--sklearn-color-text);\n",
              "}\n",
              "\n",
              "/* Toggleable content - dropdown */\n",
              "\n",
              "#sk-container-id-1 div.sk-toggleable__content {\n",
              "  max-height: 0;\n",
              "  max-width: 0;\n",
              "  overflow: hidden;\n",
              "  text-align: left;\n",
              "  /* unfitted */\n",
              "  background-color: var(--sklearn-color-unfitted-level-0);\n",
              "}\n",
              "\n",
              "#sk-container-id-1 div.sk-toggleable__content.fitted {\n",
              "  /* fitted */\n",
              "  background-color: var(--sklearn-color-fitted-level-0);\n",
              "}\n",
              "\n",
              "#sk-container-id-1 div.sk-toggleable__content pre {\n",
              "  margin: 0.2em;\n",
              "  border-radius: 0.25em;\n",
              "  color: var(--sklearn-color-text);\n",
              "  /* unfitted */\n",
              "  background-color: var(--sklearn-color-unfitted-level-0);\n",
              "}\n",
              "\n",
              "#sk-container-id-1 div.sk-toggleable__content.fitted pre {\n",
              "  /* unfitted */\n",
              "  background-color: var(--sklearn-color-fitted-level-0);\n",
              "}\n",
              "\n",
              "#sk-container-id-1 input.sk-toggleable__control:checked~div.sk-toggleable__content {\n",
              "  /* Expand drop-down */\n",
              "  max-height: 200px;\n",
              "  max-width: 100%;\n",
              "  overflow: auto;\n",
              "}\n",
              "\n",
              "#sk-container-id-1 input.sk-toggleable__control:checked~label.sk-toggleable__label-arrow:before {\n",
              "  content: \"▾\";\n",
              "}\n",
              "\n",
              "/* Pipeline/ColumnTransformer-specific style */\n",
              "\n",
              "#sk-container-id-1 div.sk-label input.sk-toggleable__control:checked~label.sk-toggleable__label {\n",
              "  color: var(--sklearn-color-text);\n",
              "  background-color: var(--sklearn-color-unfitted-level-2);\n",
              "}\n",
              "\n",
              "#sk-container-id-1 div.sk-label.fitted input.sk-toggleable__control:checked~label.sk-toggleable__label {\n",
              "  background-color: var(--sklearn-color-fitted-level-2);\n",
              "}\n",
              "\n",
              "/* Estimator-specific style */\n",
              "\n",
              "/* Colorize estimator box */\n",
              "#sk-container-id-1 div.sk-estimator input.sk-toggleable__control:checked~label.sk-toggleable__label {\n",
              "  /* unfitted */\n",
              "  background-color: var(--sklearn-color-unfitted-level-2);\n",
              "}\n",
              "\n",
              "#sk-container-id-1 div.sk-estimator.fitted input.sk-toggleable__control:checked~label.sk-toggleable__label {\n",
              "  /* fitted */\n",
              "  background-color: var(--sklearn-color-fitted-level-2);\n",
              "}\n",
              "\n",
              "#sk-container-id-1 div.sk-label label.sk-toggleable__label,\n",
              "#sk-container-id-1 div.sk-label label {\n",
              "  /* The background is the default theme color */\n",
              "  color: var(--sklearn-color-text-on-default-background);\n",
              "}\n",
              "\n",
              "/* On hover, darken the color of the background */\n",
              "#sk-container-id-1 div.sk-label:hover label.sk-toggleable__label {\n",
              "  color: var(--sklearn-color-text);\n",
              "  background-color: var(--sklearn-color-unfitted-level-2);\n",
              "}\n",
              "\n",
              "/* Label box, darken color on hover, fitted */\n",
              "#sk-container-id-1 div.sk-label.fitted:hover label.sk-toggleable__label.fitted {\n",
              "  color: var(--sklearn-color-text);\n",
              "  background-color: var(--sklearn-color-fitted-level-2);\n",
              "}\n",
              "\n",
              "/* Estimator label */\n",
              "\n",
              "#sk-container-id-1 div.sk-label label {\n",
              "  font-family: monospace;\n",
              "  font-weight: bold;\n",
              "  display: inline-block;\n",
              "  line-height: 1.2em;\n",
              "}\n",
              "\n",
              "#sk-container-id-1 div.sk-label-container {\n",
              "  text-align: center;\n",
              "}\n",
              "\n",
              "/* Estimator-specific */\n",
              "#sk-container-id-1 div.sk-estimator {\n",
              "  font-family: monospace;\n",
              "  border: 1px dotted var(--sklearn-color-border-box);\n",
              "  border-radius: 0.25em;\n",
              "  box-sizing: border-box;\n",
              "  margin-bottom: 0.5em;\n",
              "  /* unfitted */\n",
              "  background-color: var(--sklearn-color-unfitted-level-0);\n",
              "}\n",
              "\n",
              "#sk-container-id-1 div.sk-estimator.fitted {\n",
              "  /* fitted */\n",
              "  background-color: var(--sklearn-color-fitted-level-0);\n",
              "}\n",
              "\n",
              "/* on hover */\n",
              "#sk-container-id-1 div.sk-estimator:hover {\n",
              "  /* unfitted */\n",
              "  background-color: var(--sklearn-color-unfitted-level-2);\n",
              "}\n",
              "\n",
              "#sk-container-id-1 div.sk-estimator.fitted:hover {\n",
              "  /* fitted */\n",
              "  background-color: var(--sklearn-color-fitted-level-2);\n",
              "}\n",
              "\n",
              "/* Specification for estimator info (e.g. \"i\" and \"?\") */\n",
              "\n",
              "/* Common style for \"i\" and \"?\" */\n",
              "\n",
              ".sk-estimator-doc-link,\n",
              "a:link.sk-estimator-doc-link,\n",
              "a:visited.sk-estimator-doc-link {\n",
              "  float: right;\n",
              "  font-size: smaller;\n",
              "  line-height: 1em;\n",
              "  font-family: monospace;\n",
              "  background-color: var(--sklearn-color-background);\n",
              "  border-radius: 1em;\n",
              "  height: 1em;\n",
              "  width: 1em;\n",
              "  text-decoration: none !important;\n",
              "  margin-left: 0.5em;\n",
              "  text-align: center;\n",
              "  /* unfitted */\n",
              "  border: var(--sklearn-color-unfitted-level-1) 1pt solid;\n",
              "  color: var(--sklearn-color-unfitted-level-1);\n",
              "}\n",
              "\n",
              ".sk-estimator-doc-link.fitted,\n",
              "a:link.sk-estimator-doc-link.fitted,\n",
              "a:visited.sk-estimator-doc-link.fitted {\n",
              "  /* fitted */\n",
              "  border: var(--sklearn-color-fitted-level-1) 1pt solid;\n",
              "  color: var(--sklearn-color-fitted-level-1);\n",
              "}\n",
              "\n",
              "/* On hover */\n",
              "div.sk-estimator:hover .sk-estimator-doc-link:hover,\n",
              ".sk-estimator-doc-link:hover,\n",
              "div.sk-label-container:hover .sk-estimator-doc-link:hover,\n",
              ".sk-estimator-doc-link:hover {\n",
              "  /* unfitted */\n",
              "  background-color: var(--sklearn-color-unfitted-level-3);\n",
              "  color: var(--sklearn-color-background);\n",
              "  text-decoration: none;\n",
              "}\n",
              "\n",
              "div.sk-estimator.fitted:hover .sk-estimator-doc-link.fitted:hover,\n",
              ".sk-estimator-doc-link.fitted:hover,\n",
              "div.sk-label-container:hover .sk-estimator-doc-link.fitted:hover,\n",
              ".sk-estimator-doc-link.fitted:hover {\n",
              "  /* fitted */\n",
              "  background-color: var(--sklearn-color-fitted-level-3);\n",
              "  color: var(--sklearn-color-background);\n",
              "  text-decoration: none;\n",
              "}\n",
              "\n",
              "/* Span, style for the box shown on hovering the info icon */\n",
              ".sk-estimator-doc-link span {\n",
              "  display: none;\n",
              "  z-index: 9999;\n",
              "  position: relative;\n",
              "  font-weight: normal;\n",
              "  right: .2ex;\n",
              "  padding: .5ex;\n",
              "  margin: .5ex;\n",
              "  width: min-content;\n",
              "  min-width: 20ex;\n",
              "  max-width: 50ex;\n",
              "  color: var(--sklearn-color-text);\n",
              "  box-shadow: 2pt 2pt 4pt #999;\n",
              "  /* unfitted */\n",
              "  background: var(--sklearn-color-unfitted-level-0);\n",
              "  border: .5pt solid var(--sklearn-color-unfitted-level-3);\n",
              "}\n",
              "\n",
              ".sk-estimator-doc-link.fitted span {\n",
              "  /* fitted */\n",
              "  background: var(--sklearn-color-fitted-level-0);\n",
              "  border: var(--sklearn-color-fitted-level-3);\n",
              "}\n",
              "\n",
              ".sk-estimator-doc-link:hover span {\n",
              "  display: block;\n",
              "}\n",
              "\n",
              "/* \"?\"-specific style due to the `<a>` HTML tag */\n",
              "\n",
              "#sk-container-id-1 a.estimator_doc_link {\n",
              "  float: right;\n",
              "  font-size: 1rem;\n",
              "  line-height: 1em;\n",
              "  font-family: monospace;\n",
              "  background-color: var(--sklearn-color-background);\n",
              "  border-radius: 1rem;\n",
              "  height: 1rem;\n",
              "  width: 1rem;\n",
              "  text-decoration: none;\n",
              "  /* unfitted */\n",
              "  color: var(--sklearn-color-unfitted-level-1);\n",
              "  border: var(--sklearn-color-unfitted-level-1) 1pt solid;\n",
              "}\n",
              "\n",
              "#sk-container-id-1 a.estimator_doc_link.fitted {\n",
              "  /* fitted */\n",
              "  border: var(--sklearn-color-fitted-level-1) 1pt solid;\n",
              "  color: var(--sklearn-color-fitted-level-1);\n",
              "}\n",
              "\n",
              "/* On hover */\n",
              "#sk-container-id-1 a.estimator_doc_link:hover {\n",
              "  /* unfitted */\n",
              "  background-color: var(--sklearn-color-unfitted-level-3);\n",
              "  color: var(--sklearn-color-background);\n",
              "  text-decoration: none;\n",
              "}\n",
              "\n",
              "#sk-container-id-1 a.estimator_doc_link.fitted:hover {\n",
              "  /* fitted */\n",
              "  background-color: var(--sklearn-color-fitted-level-3);\n",
              "}\n",
              "</style><div id=\"sk-container-id-1\" class=\"sk-top-container\"><div class=\"sk-text-repr-fallback\"><pre>LinearRegression()</pre><b>In a Jupyter environment, please rerun this cell to show the HTML representation or trust the notebook. <br />On GitHub, the HTML representation is unable to render, please try loading this page with nbviewer.org.</b></div><div class=\"sk-container\" hidden><div class=\"sk-item\"><div class=\"sk-estimator fitted sk-toggleable\"><input class=\"sk-toggleable__control sk-hidden--visually\" id=\"sk-estimator-id-1\" type=\"checkbox\" checked><label for=\"sk-estimator-id-1\" class=\"sk-toggleable__label fitted sk-toggleable__label-arrow\"><div><div>LinearRegression</div></div><div><a class=\"sk-estimator-doc-link fitted\" rel=\"noreferrer\" target=\"_blank\" href=\"https://scikit-learn.org/1.6/modules/generated/sklearn.linear_model.LinearRegression.html\">?<span>Documentation for LinearRegression</span></a><span class=\"sk-estimator-doc-link fitted\">i<span>Fitted</span></span></div></label><div class=\"sk-toggleable__content fitted\"><pre>LinearRegression()</pre></div> </div></div></div></div>"
            ],
            "text/plain": [
              "LinearRegression()"
            ]
          },
          "execution_count": 65,
          "metadata": {},
          "output_type": "execute_result"
        }
      ],
      "source": [
        "lin_reg = LinearRegression()\n",
        "lin_reg.fit(X, y)"
      ]
    },
    {
      "cell_type": "code",
      "execution_count": 66,
      "metadata": {
        "colab": {
          "base_uri": "https://localhost:8080/"
        },
        "id": "G3YlWhhOg5DP",
        "outputId": "2e3d798d-7848-460e-856a-22c2b4cfd608"
      },
      "outputs": [
        {
          "data": {
            "text/plain": [
              "array([-3.32047327e-01,  1.89259233e+00, -3.88836593e-04, -2.70095633e+00,\n",
              "        7.54623788e-01, -4.23428851e-01,  5.75656791e+00, -2.44073627e+00,\n",
              "       -1.44689715e+00,  4.32082284e+00, -8.81746664e-01,  1.01165864e+00,\n",
              "       -2.17236236e+00,  2.10305867e+00,  2.54756939e+00,  1.92423476e+00,\n",
              "        3.92685534e+01,  2.75543067e-01, -1.29790604e-01,  1.23699048e+00,\n",
              "        2.62279824e+00, -2.49287621e+00, -7.00325307e-01, -8.50210023e-01,\n",
              "        1.43197597e+00])"
            ]
          },
          "execution_count": 66,
          "metadata": {},
          "output_type": "execute_result"
        }
      ],
      "source": [
        "lin_reg.coef_"
      ]
    },
    {
      "cell_type": "code",
      "execution_count": 67,
      "metadata": {
        "colab": {
          "base_uri": "https://localhost:8080/"
        },
        "id": "qA6vabrghPVV",
        "outputId": "e7ad0013-badd-4851-898e-684123d91bff"
      },
      "outputs": [
        {
          "name": "stdout",
          "output_type": "stream",
          "text": [
            "--- 158.59606909751892 seconds ---\n"
          ]
        }
      ],
      "source": [
        "gb_model = GradientBoostingRegressor()\n",
        "import time\n",
        "start_time = time.time()\n",
        "gb_model.fit(X, y)\n",
        "print(\"--- %s seconds ---\" % (time.time() - start_time))\n"
      ]
    },
    {
      "cell_type": "code",
      "execution_count": 68,
      "metadata": {
        "colab": {
          "base_uri": "https://localhost:8080/"
        },
        "id": "HPlkdyBEpSjL",
        "outputId": "1d45f156-84fb-4be7-bcbb-83dd0cb4066b"
      },
      "outputs": [
        {
          "name": "stdout",
          "output_type": "stream",
          "text": [
            "--- 0.08431267738342285 seconds ---\n"
          ]
        }
      ],
      "source": [
        "kn_model = KNeighborsRegressor()\n",
        "import time\n",
        "start_time = time.time()\n",
        "kn_model.fit(X, y)\n",
        "print(\"--- %s seconds ---\" % (time.time() - start_time))"
      ]
    },
    {
      "cell_type": "code",
      "execution_count": 69,
      "metadata": {
        "id": "uKm1bp8ama6H"
      },
      "outputs": [],
      "source": [
        "# Enregistrer les modèles\n",
        "from pathlib import Path\n",
        "import os\n",
        "model_location = Path(\".\").parent / \"models\"\n",
        "if not os.path.exists(model_location):\n",
        "  os.mkdir(model_location)\n",
        "\n",
        "import pickle\n",
        "\n",
        "model_export_names = [\"LinearReg_Model.pkl\", \"GradientB_Model.pkl\", \"KNN_Model.pkl\"]\n",
        "\n",
        "for model, export_name in zip([lin_reg, gb_model, kn_model], model_export_names):\n",
        "  with open(model_location / export_name, \"wb\") as f:\n",
        "    pickle.dump(model, f)\n"
      ]
    }
  ],
  "metadata": {
    "colab": {
      "provenance": []
    },
    "kernelspec": {
      "display_name": ".venv",
      "language": "python",
      "name": "python3"
    },
    "language_info": {
      "codemirror_mode": {
        "name": "ipython",
        "version": 3
      },
      "file_extension": ".py",
      "mimetype": "text/x-python",
      "name": "python",
      "nbconvert_exporter": "python",
      "pygments_lexer": "ipython3",
      "version": "3.10.15"
    }
  },
  "nbformat": 4,
  "nbformat_minor": 0
}
